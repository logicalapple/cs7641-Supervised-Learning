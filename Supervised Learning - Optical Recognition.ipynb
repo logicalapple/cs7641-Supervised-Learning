{
 "cells": [
  {
   "cell_type": "code",
   "execution_count": 1,
   "metadata": {},
   "outputs": [],
   "source": [
    "# Import standard machine learning / data science libraries\n",
    "%matplotlib inline\n",
    "from sklearn.utils import shuffle\n",
    "import pandas as pd\n",
    "import numpy as np\n",
    "import seaborn as sns\n",
    "import matplotlib.pyplot as plt\n",
    "from sklearn import tree\n",
    "from sklearn.model_selection import GridSearchCV\n",
    "#from sklearn.model_selection import train_test_split\n",
    "\n",
    "# Import Decision Tree Classifier\n",
    "from sklearn.tree import DecisionTreeClassifier"
   ]
  },
  {
   "cell_type": "code",
   "execution_count": 2,
   "metadata": {},
   "outputs": [],
   "source": [
    "# Next dataset -- optical recognition\n",
    "# Load data and shuffle\n",
    "trainSet = pd.read_csv(\"G:\\GATech\\Machine Learning Version 2\\optdigits.tra\")\n",
    "trainSet = shuffle(trainSet).reset_index(drop=True)"
   ]
  },
  {
   "cell_type": "code",
   "execution_count": 3,
   "metadata": {},
   "outputs": [
    {
     "name": "stdout",
     "output_type": "stream",
     "text": [
      "<class 'pandas.core.frame.DataFrame'>\n",
      "RangeIndex: 3823 entries, 0 to 3822\n",
      "Data columns (total 65 columns):\n",
      "Block 1     3823 non-null int64\n",
      "Block 2     3823 non-null int64\n",
      "Block 3     3823 non-null int64\n",
      "Block 4     3823 non-null int64\n",
      "Block 5     3823 non-null int64\n",
      "Block 6     3823 non-null int64\n",
      "Block 7     3823 non-null int64\n",
      "Block 8     3823 non-null int64\n",
      "Block 9     3823 non-null int64\n",
      "Block 10    3823 non-null int64\n",
      "Block 11    3823 non-null int64\n",
      "Block 12    3823 non-null int64\n",
      "Block 13    3823 non-null int64\n",
      "Block 14    3823 non-null int64\n",
      "Block 15    3823 non-null int64\n",
      "Block 16    3823 non-null int64\n",
      "Block 17    3823 non-null int64\n",
      "Block 18    3823 non-null int64\n",
      "Block 19    3823 non-null int64\n",
      "Block 20    3823 non-null int64\n",
      "Block 21    3823 non-null int64\n",
      "Block 22    3823 non-null int64\n",
      "Block 23    3823 non-null int64\n",
      "Block 24    3823 non-null int64\n",
      "Block 25    3823 non-null int64\n",
      "Block 26    3823 non-null int64\n",
      "Block 27    3823 non-null int64\n",
      "Block 28    3823 non-null int64\n",
      "Block 29    3823 non-null int64\n",
      "Block 30    3823 non-null int64\n",
      "Block 31    3823 non-null int64\n",
      "Block 32    3823 non-null int64\n",
      "Block 33    3823 non-null int64\n",
      "Block 34    3823 non-null int64\n",
      "Block 35    3823 non-null int64\n",
      "Block 36    3823 non-null int64\n",
      "Block 37    3823 non-null int64\n",
      "Block 38    3823 non-null int64\n",
      "Block 39    3823 non-null int64\n",
      "Block 40    3823 non-null int64\n",
      "Block 41    3823 non-null int64\n",
      "Block 42    3823 non-null int64\n",
      "Block 43    3823 non-null int64\n",
      "Block 44    3823 non-null int64\n",
      "Block 45    3823 non-null int64\n",
      "Block 46    3823 non-null int64\n",
      "Block 47    3823 non-null int64\n",
      "Block 48    3823 non-null int64\n",
      "Block 49    3823 non-null int64\n",
      "Block 50    3823 non-null int64\n",
      "Block 51    3823 non-null int64\n",
      "Block 52    3823 non-null int64\n",
      "Block 53    3823 non-null int64\n",
      "Block 54    3823 non-null int64\n",
      "Block 55    3823 non-null int64\n",
      "Block 56    3823 non-null int64\n",
      "Block 57    3823 non-null int64\n",
      "Block 58    3823 non-null int64\n",
      "Block 59    3823 non-null int64\n",
      "Block 60    3823 non-null int64\n",
      "Block 61    3823 non-null int64\n",
      "Block 62    3823 non-null int64\n",
      "Block 63    3823 non-null int64\n",
      "Block 64    3823 non-null int64\n",
      "Class       3823 non-null int64\n",
      "dtypes: int64(65)\n",
      "memory usage: 1.9 MB\n",
      "None\n",
      "\n",
      "Block 1     False\n",
      "Block 2     False\n",
      "Block 3     False\n",
      "Block 4     False\n",
      "Block 5     False\n",
      "Block 6     False\n",
      "Block 7     False\n",
      "Block 8     False\n",
      "Block 9     False\n",
      "Block 10    False\n",
      "Block 11    False\n",
      "Block 12    False\n",
      "Block 13    False\n",
      "Block 14    False\n",
      "Block 15    False\n",
      "Block 16    False\n",
      "Block 17    False\n",
      "Block 18    False\n",
      "Block 19    False\n",
      "Block 20    False\n",
      "Block 21    False\n",
      "Block 22    False\n",
      "Block 23    False\n",
      "Block 24    False\n",
      "Block 25    False\n",
      "Block 26    False\n",
      "Block 27    False\n",
      "Block 28    False\n",
      "Block 29    False\n",
      "Block 30    False\n",
      "            ...  \n",
      "Block 36    False\n",
      "Block 37    False\n",
      "Block 38    False\n",
      "Block 39    False\n",
      "Block 40    False\n",
      "Block 41    False\n",
      "Block 42    False\n",
      "Block 43    False\n",
      "Block 44    False\n",
      "Block 45    False\n",
      "Block 46    False\n",
      "Block 47    False\n",
      "Block 48    False\n",
      "Block 49    False\n",
      "Block 50    False\n",
      "Block 51    False\n",
      "Block 52    False\n",
      "Block 53    False\n",
      "Block 54    False\n",
      "Block 55    False\n",
      "Block 56    False\n",
      "Block 57    False\n",
      "Block 58    False\n",
      "Block 59    False\n",
      "Block 60    False\n",
      "Block 61    False\n",
      "Block 62    False\n",
      "Block 63    False\n",
      "Block 64    False\n",
      "Class       False\n",
      "Length: 65, dtype: bool\n",
      "\n",
      "       Block 1      Block 2      Block 3      Block 4      Block 5  \\\n",
      "count   3823.0  3823.000000  3823.000000  3823.000000  3823.000000   \n",
      "mean       0.0     0.301334     5.481821    11.805912    11.451478   \n",
      "std        0.0     0.866986     4.631601     4.259811     4.537556   \n",
      "min        0.0     0.000000     0.000000     0.000000     0.000000   \n",
      "25%        0.0     0.000000     1.000000    10.000000     9.000000   \n",
      "50%        0.0     0.000000     5.000000    13.000000    13.000000   \n",
      "75%        0.0     0.000000     9.000000    15.000000    15.000000   \n",
      "max        0.0     8.000000    16.000000    16.000000    16.000000   \n",
      "\n",
      "           Block 6      Block 7      Block 8      Block 9     Block 10  \\\n",
      "count  3823.000000  3823.000000  3823.000000  3823.000000  3823.000000   \n",
      "mean      5.505362     1.387392     0.142297     0.002093     1.960502   \n",
      "std       5.613060     3.371444     1.051598     0.088572     3.052353   \n",
      "min       0.000000     0.000000     0.000000     0.000000     0.000000   \n",
      "25%       0.000000     0.000000     0.000000     0.000000     0.000000   \n",
      "50%       4.000000     0.000000     0.000000     0.000000     0.000000   \n",
      "75%      10.000000     0.000000     0.000000     0.000000     3.000000   \n",
      "max      16.000000    16.000000    16.000000     5.000000    15.000000   \n",
      "\n",
      "          ...          Block 56     Block 57     Block 58     Block 59  \\\n",
      "count     ...       3823.000000  3823.000000  3823.000000  3823.000000   \n",
      "mean      ...          0.148313     0.000262     0.283024     5.855872   \n",
      "std       ...          0.767761     0.016173     0.928046     4.980012   \n",
      "min       ...          0.000000     0.000000     0.000000     0.000000   \n",
      "25%       ...          0.000000     0.000000     0.000000     1.000000   \n",
      "50%       ...          0.000000     0.000000     0.000000     5.000000   \n",
      "75%       ...          0.000000     0.000000     0.000000    10.000000   \n",
      "max       ...         12.000000     1.000000    10.000000    16.000000   \n",
      "\n",
      "          Block 60     Block 61     Block 62     Block 63     Block 64  \\\n",
      "count  3823.000000  3823.000000  3823.000000  3823.000000  3823.000000   \n",
      "mean     11.942977    11.461156     6.700497     2.105676     0.202197   \n",
      "std       4.334508     4.991934     5.775815     4.028266     1.150694   \n",
      "min       0.000000     0.000000     0.000000     0.000000     0.000000   \n",
      "25%      10.000000     9.000000     0.000000     0.000000     0.000000   \n",
      "50%      13.000000    13.000000     6.000000     0.000000     0.000000   \n",
      "75%      15.000000    16.000000    12.000000     2.000000     0.000000   \n",
      "max      16.000000    16.000000    16.000000    16.000000    16.000000   \n",
      "\n",
      "             Class  \n",
      "count  3823.000000  \n",
      "mean      4.497253  \n",
      "std       2.869831  \n",
      "min       0.000000  \n",
      "25%       2.000000  \n",
      "50%       4.000000  \n",
      "75%       7.000000  \n",
      "max       9.000000  \n",
      "\n",
      "[8 rows x 65 columns]\n"
     ]
    }
   ],
   "source": [
    "# See what type of data we are dealing with\n",
    "print(trainSet.info())\n",
    "print()\n",
    "print(trainSet.isnull().any())\n",
    "print()\n",
    "print(trainSet.describe())"
   ]
  },
  {
   "cell_type": "code",
   "execution_count": 4,
   "metadata": {},
   "outputs": [
    {
     "data": {
      "text/html": [
       "<div>\n",
       "<style scoped>\n",
       "    .dataframe tbody tr th:only-of-type {\n",
       "        vertical-align: middle;\n",
       "    }\n",
       "\n",
       "    .dataframe tbody tr th {\n",
       "        vertical-align: top;\n",
       "    }\n",
       "\n",
       "    .dataframe thead th {\n",
       "        text-align: right;\n",
       "    }\n",
       "</style>\n",
       "<table border=\"1\" class=\"dataframe\">\n",
       "  <thead>\n",
       "    <tr style=\"text-align: right;\">\n",
       "      <th></th>\n",
       "      <th>Block 1</th>\n",
       "      <th>Block 2</th>\n",
       "      <th>Block 3</th>\n",
       "      <th>Block 4</th>\n",
       "      <th>Block 5</th>\n",
       "      <th>Block 6</th>\n",
       "      <th>Block 7</th>\n",
       "      <th>Block 8</th>\n",
       "      <th>Block 9</th>\n",
       "      <th>Block 10</th>\n",
       "      <th>...</th>\n",
       "      <th>Block 56</th>\n",
       "      <th>Block 57</th>\n",
       "      <th>Block 58</th>\n",
       "      <th>Block 59</th>\n",
       "      <th>Block 60</th>\n",
       "      <th>Block 61</th>\n",
       "      <th>Block 62</th>\n",
       "      <th>Block 63</th>\n",
       "      <th>Block 64</th>\n",
       "      <th>Class</th>\n",
       "    </tr>\n",
       "  </thead>\n",
       "  <tbody>\n",
       "    <tr>\n",
       "      <th>0</th>\n",
       "      <td>0</td>\n",
       "      <td>0</td>\n",
       "      <td>5</td>\n",
       "      <td>13</td>\n",
       "      <td>9</td>\n",
       "      <td>1</td>\n",
       "      <td>0</td>\n",
       "      <td>0</td>\n",
       "      <td>0</td>\n",
       "      <td>0</td>\n",
       "      <td>...</td>\n",
       "      <td>0</td>\n",
       "      <td>0</td>\n",
       "      <td>0</td>\n",
       "      <td>6</td>\n",
       "      <td>13</td>\n",
       "      <td>10</td>\n",
       "      <td>0</td>\n",
       "      <td>0</td>\n",
       "      <td>0</td>\n",
       "      <td>0</td>\n",
       "    </tr>\n",
       "    <tr>\n",
       "      <th>1</th>\n",
       "      <td>0</td>\n",
       "      <td>0</td>\n",
       "      <td>0</td>\n",
       "      <td>12</td>\n",
       "      <td>13</td>\n",
       "      <td>5</td>\n",
       "      <td>0</td>\n",
       "      <td>0</td>\n",
       "      <td>0</td>\n",
       "      <td>0</td>\n",
       "      <td>...</td>\n",
       "      <td>0</td>\n",
       "      <td>0</td>\n",
       "      <td>0</td>\n",
       "      <td>0</td>\n",
       "      <td>11</td>\n",
       "      <td>16</td>\n",
       "      <td>10</td>\n",
       "      <td>0</td>\n",
       "      <td>0</td>\n",
       "      <td>1</td>\n",
       "    </tr>\n",
       "    <tr>\n",
       "      <th>2</th>\n",
       "      <td>0</td>\n",
       "      <td>0</td>\n",
       "      <td>0</td>\n",
       "      <td>4</td>\n",
       "      <td>15</td>\n",
       "      <td>12</td>\n",
       "      <td>0</td>\n",
       "      <td>0</td>\n",
       "      <td>0</td>\n",
       "      <td>0</td>\n",
       "      <td>...</td>\n",
       "      <td>0</td>\n",
       "      <td>0</td>\n",
       "      <td>0</td>\n",
       "      <td>0</td>\n",
       "      <td>3</td>\n",
       "      <td>11</td>\n",
       "      <td>16</td>\n",
       "      <td>9</td>\n",
       "      <td>0</td>\n",
       "      <td>2</td>\n",
       "    </tr>\n",
       "    <tr>\n",
       "      <th>3</th>\n",
       "      <td>0</td>\n",
       "      <td>0</td>\n",
       "      <td>7</td>\n",
       "      <td>15</td>\n",
       "      <td>13</td>\n",
       "      <td>1</td>\n",
       "      <td>0</td>\n",
       "      <td>0</td>\n",
       "      <td>0</td>\n",
       "      <td>8</td>\n",
       "      <td>...</td>\n",
       "      <td>0</td>\n",
       "      <td>0</td>\n",
       "      <td>0</td>\n",
       "      <td>7</td>\n",
       "      <td>13</td>\n",
       "      <td>13</td>\n",
       "      <td>9</td>\n",
       "      <td>0</td>\n",
       "      <td>0</td>\n",
       "      <td>3</td>\n",
       "    </tr>\n",
       "    <tr>\n",
       "      <th>4</th>\n",
       "      <td>0</td>\n",
       "      <td>0</td>\n",
       "      <td>0</td>\n",
       "      <td>1</td>\n",
       "      <td>11</td>\n",
       "      <td>0</td>\n",
       "      <td>0</td>\n",
       "      <td>0</td>\n",
       "      <td>0</td>\n",
       "      <td>0</td>\n",
       "      <td>...</td>\n",
       "      <td>0</td>\n",
       "      <td>0</td>\n",
       "      <td>0</td>\n",
       "      <td>0</td>\n",
       "      <td>2</td>\n",
       "      <td>16</td>\n",
       "      <td>4</td>\n",
       "      <td>0</td>\n",
       "      <td>0</td>\n",
       "      <td>4</td>\n",
       "    </tr>\n",
       "  </tbody>\n",
       "</table>\n",
       "<p>5 rows × 65 columns</p>\n",
       "</div>"
      ],
      "text/plain": [
       "   Block 1  Block 2  Block 3  Block 4  Block 5  Block 6  Block 7  Block 8  \\\n",
       "0        0        0        5       13        9        1        0        0   \n",
       "1        0        0        0       12       13        5        0        0   \n",
       "2        0        0        0        4       15       12        0        0   \n",
       "3        0        0        7       15       13        1        0        0   \n",
       "4        0        0        0        1       11        0        0        0   \n",
       "\n",
       "   Block 9  Block 10  ...    Block 56  Block 57  Block 58  Block 59  Block 60  \\\n",
       "0        0         0  ...           0         0         0         6        13   \n",
       "1        0         0  ...           0         0         0         0        11   \n",
       "2        0         0  ...           0         0         0         0         3   \n",
       "3        0         8  ...           0         0         0         7        13   \n",
       "4        0         0  ...           0         0         0         0         2   \n",
       "\n",
       "   Block 61  Block 62  Block 63  Block 64  Class  \n",
       "0        10         0         0         0      0  \n",
       "1        16        10         0         0      1  \n",
       "2        11        16         9         0      2  \n",
       "3        13         9         0         0      3  \n",
       "4        16         4         0         0      4  \n",
       "\n",
       "[5 rows x 65 columns]"
      ]
     },
     "execution_count": 4,
     "metadata": {},
     "output_type": "execute_result"
    }
   ],
   "source": [
    "testSet = pd.read_csv(\"G:\\GATech\\Machine Learning Version 2\\optdigits.tes\")\n",
    "testSet.head()"
   ]
  },
  {
   "cell_type": "code",
   "execution_count": 5,
   "metadata": {},
   "outputs": [],
   "source": [
    "X_train = trainSet[['Block ' + str(i) for i in range(1, 65)]]\n",
    "y_train = trainSet[['Class']]\n",
    "\n",
    "X_test = testSet[['Block ' + str(i) for i in range(1, 65)]]\n",
    "y_test = testSet[['Class']]"
   ]
  },
  {
   "cell_type": "code",
   "execution_count": 6,
   "metadata": {},
   "outputs": [
    {
     "name": "stdout",
     "output_type": "stream",
     "text": [
      "1.0\n",
      "0.8580968280467446\n",
      "DecisionTreeClassifier(class_weight=None, criterion='gini', max_depth=None,\n",
      "            max_features=None, max_leaf_nodes=None,\n",
      "            min_impurity_decrease=0.0, min_impurity_split=None,\n",
      "            min_samples_leaf=1, min_samples_split=2,\n",
      "            min_weight_fraction_leaf=0.0, presort=False, random_state=None,\n",
      "            splitter='best')\n"
     ]
    }
   ],
   "source": [
    "# Multi-class Decision Tree\n",
    "dtc = DecisionTreeClassifier()\n",
    "dtc.fit(X_train, y_train)\n",
    "print(dtc.score(X_train, y_train))\n",
    "print(dtc.score(X_test, y_test))\n",
    "print(dtc)"
   ]
  },
  {
   "cell_type": "code",
   "execution_count": 7,
   "metadata": {},
   "outputs": [
    {
     "name": "stdout",
     "output_type": "stream",
     "text": [
      "0.9026942191995815 {'criterion': 'gini', 'max_depth': 10, 'max_leaf_nodes': None, 'min_samples_leaf': 1, 'min_samples_split': 2}\n"
     ]
    }
   ],
   "source": [
    "# Roughly 85-86 % were correctly classified\n",
    "parameters = {\"criterion\": [\"gini\", \"entropy\"],\n",
    "              \"min_samples_split\": [2, 5, 10, 15, 20],\n",
    "              \"max_depth\": [None, 2, 3, 4, 5, 6, 7, 8, 9, 10],\n",
    "              \"min_samples_leaf\": [1, 3, 5, 7, 9, 10],\n",
    "              \"max_leaf_nodes\": [None, 5, 10, 15, 20],\n",
    "              }\n",
    "clf = GridSearchCV(tree.DecisionTreeClassifier(), parameters, n_jobs=4, cv = 5)\n",
    "clf.fit(X=X_train, y=y_train)\n",
    "dtc = clf.best_estimator_\n",
    "print (clf.best_score_, clf.best_params_) "
   ]
  },
  {
   "cell_type": "code",
   "execution_count": 8,
   "metadata": {},
   "outputs": [],
   "source": [
    "# Much better -- we obtain 99% accuracy on the training set by tuning hyperparameters and using cross validation\n",
    "# Now let's visualize this by generating cross validation curves\n",
    "# Code for generating learning curves\n",
    "\n",
    "# Learning curves code from https://www.dataquest.io/blog/learning-curves-machine-learning/\n",
    "from sklearn.model_selection import learning_curve\n",
    "\n",
    "def learning_curves(estimator, data, features, target, train_sizes, cv, testData):\n",
    "    train_sizes, train_scores, validation_scores = learning_curve(\n",
    "                                                 estimator, data[features], data[target], train_sizes = train_sizes,\n",
    "                                                 cv = cv, scoring = 'accuracy', shuffle=True)\n",
    "    \n",
    "    test_scores = learning_curve(estimator, testData[features], testData[target], train_sizes = train_sizes,\n",
    "                                                 cv = cv, scoring = 'accuracy')[2]\n",
    "    \n",
    "    test_scores_mean = test_scores.mean(axis=1)\n",
    "    \n",
    "    train_scores_mean = train_scores.mean(axis = 1)\n",
    "    validation_scores_mean = validation_scores.mean(axis = 1)\n",
    "    \n",
    "    plt.plot(train_sizes, train_scores_mean, label = 'Training accuracy')\n",
    "    plt.plot(train_sizes, validation_scores_mean, label = 'Validation accuracy')\n",
    "    plt.plot(train_sizes, test_scores_mean, label = 'Test accuracy')\n",
    "\n",
    "    plt.ylabel('Accuracy', fontsize = 14)\n",
    "    plt.xlabel('Training set size', fontsize = 14)\n",
    "    title = 'Learning curves for a ' + str(estimator).split('(')[0] + ' model'\n",
    "    plt.title(title, fontsize = 18, y = 1.03)\n",
    "    plt.legend()\n",
    "    plt.ylim(0.95,1.05,0.1)\n",
    "    plt.xlim(0, 1500, 100)"
   ]
  },
  {
   "cell_type": "code",
   "execution_count": 9,
   "metadata": {},
   "outputs": [
    {
     "data": {
      "text/plain": [
       "Text(0.5,1.03,'Decision Tree Classifier - Optical Recognition')"
      ]
     },
     "execution_count": 9,
     "metadata": {},
     "output_type": "execute_result"
    },
    {
     "data": {
      "image/png": "[encoded data removed]",
      "text/plain": [
       "<Figure size 504x360 with 1 Axes>"
      ]
     },
     "metadata": {
      "needs_background": "light"
     },
     "output_type": "display_data"
    }
   ],
   "source": [
    "train_sizes = [x for x in range(100, 1400, 100)]\n",
    "features = ['Block ' + str(i) for i in range(1, 65)]\n",
    "target = ['Class']\n",
    "plt.figure(figsize=(7,5))\n",
    "learning_curves(dtc, trainSet, features, target, train_sizes, 5, testSet)\n",
    "plt.ylim(0.5,1.1,0.1)\n",
    "plt.title(\"Decision Tree Classifier - Optical Recognition\", fontsize=18)"
   ]
  },
  {
   "cell_type": "code",
   "execution_count": 10,
   "metadata": {},
   "outputs": [
    {
     "name": "stdout",
     "output_type": "stream",
     "text": [
      "0.8514190317195326\n"
     ]
    }
   ],
   "source": [
    "print(dtc.score(X_test, y_test))"
   ]
  },
  {
   "cell_type": "code",
   "execution_count": 11,
   "metadata": {},
   "outputs": [
    {
     "name": "stderr",
     "output_type": "stream",
     "text": [
      "G:\\Anaconda3\\lib\\site-packages\\ipykernel_launcher.py:4: DataConversionWarning: A column-vector y was passed when a 1d array was expected. Please change the shape of y to (n_samples, ), for example using ravel().\n",
      "  after removing the cwd from sys.path.\n"
     ]
    },
    {
     "data": {
      "text/plain": [
       "KNeighborsClassifier(algorithm='auto', leaf_size=30, metric='minkowski',\n",
       "           metric_params=None, n_jobs=1, n_neighbors=5, p=2,\n",
       "           weights='uniform')"
      ]
     },
     "execution_count": 11,
     "metadata": {},
     "output_type": "execute_result"
    }
   ],
   "source": [
    "# 87 %, decent.  Moving onto KNN\n",
    "from sklearn.neighbors import KNeighborsClassifier\n",
    "knn = KNeighborsClassifier(n_neighbors=5)  \n",
    "knn.fit(X_train, y_train)"
   ]
  },
  {
   "cell_type": "code",
   "execution_count": 12,
   "metadata": {},
   "outputs": [
    {
     "data": {
      "text/plain": [
       "0.9788536449638287"
      ]
     },
     "execution_count": 12,
     "metadata": {},
     "output_type": "execute_result"
    }
   ],
   "source": [
    "knn.score(X_test, y_test)"
   ]
  },
  {
   "cell_type": "code",
   "execution_count": 13,
   "metadata": {},
   "outputs": [
    {
     "data": {
      "text/plain": [
       "GridSearchCV(cv=5, error_score='raise',\n",
       "       estimator=KNeighborsClassifier(algorithm='auto', leaf_size=30, metric='minkowski',\n",
       "           metric_params=None, n_jobs=1, n_neighbors=5, p=2,\n",
       "           weights='uniform'),\n",
       "       fit_params=None, iid=True, n_jobs=1,\n",
       "       param_grid={'n_neighbors': [1, 2, 3, 4, 5, 6, 7, 8, 9, 10, 11, 12, 13, 14, 15, 16, 17, 18, 19, 20, 21, 22, 23, 24, 25, 26, 27, 28, 29, 30]},\n",
       "       pre_dispatch='2*n_jobs', refit=True, return_train_score='warn',\n",
       "       scoring='accuracy', verbose=0)"
      ]
     },
     "execution_count": 13,
     "metadata": {},
     "output_type": "execute_result"
    }
   ],
   "source": [
    "#97% Before any tuning\n",
    "import warnings\n",
    "warnings.filterwarnings('ignore')\n",
    "k_range = list(range(1, 31))\n",
    "param_grid = dict(n_neighbors=k_range)\n",
    "grid = GridSearchCV(knn, param_grid, cv=5, scoring='accuracy')\n",
    "grid.fit(X_train, y_train)"
   ]
  },
  {
   "cell_type": "code",
   "execution_count": 14,
   "metadata": {},
   "outputs": [
    {
     "data": {
      "text/plain": [
       "(0.8, 1.1)"
      ]
     },
     "execution_count": 14,
     "metadata": {},
     "output_type": "execute_result"
    },
    {
     "data": {
      "image/png": "[encoded data removed]",
      "text/plain": [
       "<Figure size 432x288 with 1 Axes>"
      ]
     },
     "metadata": {
      "needs_background": "light"
     },
     "output_type": "display_data"
    }
   ],
   "source": [
    "\n",
    "knn = grid.best_estimator_\n",
    "train_sizes = [x for x in range(100, 1400, 100)]\n",
    "learning_curves(knn, trainSet, features, target, train_sizes, 5, testSet)\n",
    "plt.title(\"KNN Classifier - Optical Recognition\", fontsize=18)\n",
    "plt.ylim(0.8,1.1,0.1)"
   ]
  },
  {
   "cell_type": "code",
   "execution_count": 15,
   "metadata": {},
   "outputs": [
    {
     "data": {
      "text/plain": [
       "0.9782971619365609"
      ]
     },
     "execution_count": 15,
     "metadata": {},
     "output_type": "execute_result"
    }
   ],
   "source": [
    "knn.score(X_test, y_test)"
   ]
  },
  {
   "cell_type": "code",
   "execution_count": 16,
   "metadata": {},
   "outputs": [
    {
     "data": {
      "text/plain": [
       "Text(0.5,1,'KNN CV - Optical Recognition')"
      ]
     },
     "execution_count": 16,
     "metadata": {},
     "output_type": "execute_result"
    },
    {
     "data": {
      "image/png": "[encoded data removed]",
      "text/plain": [
       "<Figure size 432x288 with 1 Axes>"
      ]
     },
     "metadata": {
      "needs_background": "light"
     },
     "output_type": "display_data"
    }
   ],
   "source": [
    "grid_mean_scores = [result.mean_validation_score for result in grid.grid_scores_]\n",
    "plt.plot(k_range, grid_mean_scores)\n",
    "plt.xlabel('Value of K for KNN')\n",
    "plt.ylabel('Cross-Validated Accuracy')\n",
    "plt.title(\"KNN CV - Optical Recognition\")"
   ]
  },
  {
   "cell_type": "code",
   "execution_count": 17,
   "metadata": {},
   "outputs": [
    {
     "name": "stdout",
     "output_type": "stream",
     "text": [
      "KNeighborsClassifier(algorithm='auto', leaf_size=30, metric='minkowski',\n",
      "           metric_params=None, n_jobs=1, n_neighbors=3, p=2,\n",
      "           weights='uniform')\n"
     ]
    }
   ],
   "source": [
    "print(knn)"
   ]
  },
  {
   "cell_type": "code",
   "execution_count": 18,
   "metadata": {},
   "outputs": [
    {
     "name": "stdout",
     "output_type": "stream",
     "text": [
      "0.9782971619365609\n"
     ]
    }
   ],
   "source": [
    "print(knn.score(X_test, y_test))"
   ]
  },
  {
   "cell_type": "code",
   "execution_count": 19,
   "metadata": {},
   "outputs": [],
   "source": [
    "# 7NN is most accurate with about 97% accuracy"
   ]
  },
  {
   "cell_type": "code",
   "execution_count": 20,
   "metadata": {},
   "outputs": [
    {
     "data": {
      "text/plain": [
       "MLPClassifier(activation='relu', alpha=1e-05, batch_size='auto', beta_1=0.9,\n",
       "       beta_2=0.999, early_stopping=False, epsilon=1e-08,\n",
       "       hidden_layer_sizes=(5, 2), learning_rate='constant',\n",
       "       learning_rate_init=0.001, max_iter=200, momentum=0.9,\n",
       "       nesterovs_momentum=True, power_t=0.5, random_state=1, shuffle=True,\n",
       "       solver='lbfgs', tol=0.0001, validation_fraction=0.1, verbose=False,\n",
       "       warm_start=False)"
      ]
     },
     "execution_count": 20,
     "metadata": {},
     "output_type": "execute_result"
    }
   ],
   "source": [
    "#Now let's do Neural Nets\n",
    "from sklearn.neural_network import MLPClassifier\n",
    "ann = MLPClassifier(solver='lbfgs', alpha=1e-5, hidden_layer_sizes=(5, 2), random_state=1)\n",
    "ann.fit(X_train, y_train)"
   ]
  },
  {
   "cell_type": "code",
   "execution_count": 21,
   "metadata": {},
   "outputs": [
    {
     "data": {
      "text/plain": [
       "0.6438508625486923"
      ]
     },
     "execution_count": 21,
     "metadata": {},
     "output_type": "execute_result"
    }
   ],
   "source": [
    "ann.score(X_test, y_test)"
   ]
  },
  {
   "cell_type": "code",
   "execution_count": 22,
   "metadata": {},
   "outputs": [],
   "source": [
    "# ~64% accuracy without tuning"
   ]
  },
  {
   "cell_type": "code",
   "execution_count": 23,
   "metadata": {},
   "outputs": [],
   "source": [
    "parameters = {'solver': ['lbfgs'], 'max_iter': [1000,1100,1200,1300,1400,1500,1600,1700,1800,1900,2000],\n",
    "              'alpha': 10.0 ** -np.arange(1, 3), 'hidden_layer_sizes':np.arange(3, 5),\n",
    "              'random_state':[0,1,2]}\n",
    "clf = GridSearchCV(MLPClassifier(), parameters, n_jobs=-1)\n",
    "clf.fit(X_test, y_test)\n",
    "ann = clf.best_estimator_"
   ]
  },
  {
   "cell_type": "code",
   "execution_count": 26,
   "metadata": {},
   "outputs": [
    {
     "name": "stdout",
     "output_type": "stream",
     "text": [
      "0.731101229400994\n",
      "0.7840845854201447\n"
     ]
    }
   ],
   "source": [
    "print(ann.score(X_train, y_train))\n",
    "print(ann.score(X_test, y_test))"
   ]
  },
  {
   "cell_type": "code",
   "execution_count": 29,
   "metadata": {},
   "outputs": [
    {
     "data": {
      "text/plain": [
       "Text(0.5,1.03,'MLP Classifier, Optical Recognition')"
      ]
     },
     "execution_count": 29,
     "metadata": {},
     "output_type": "execute_result"
    },
    {
     "data": {
      "image/png": "[encoded data removed]",
      "text/plain": [
       "<Figure size 432x288 with 1 Axes>"
      ]
     },
     "metadata": {
      "needs_background": "light"
     },
     "output_type": "display_data"
    }
   ],
   "source": [
    "#Increased to 78%\n",
    "learning_curves(ann, trainSet, features, target, train_sizes, 5, testSet)\n",
    "plt.ylim(0.1,1.1,0.1)\n",
    "plt.title(\"MLP Classifier - Optical Recognition\", fontsize = 18)"
   ]
  },
  {
   "cell_type": "code",
   "execution_count": 30,
   "metadata": {},
   "outputs": [],
   "source": [
    "# Support Vector"
   ]
  },
  {
   "cell_type": "code",
   "execution_count": 32,
   "metadata": {},
   "outputs": [
    {
     "data": {
      "text/plain": [
       "SVC(C=1.0, cache_size=200, class_weight=None, coef0=0.0,\n",
       "  decision_function_shape='ovr', degree=3, gamma='auto', kernel='rbf',\n",
       "  max_iter=-1, probability=False, random_state=None, shrinking=True,\n",
       "  tol=0.001, verbose=False)"
      ]
     },
     "execution_count": 32,
     "metadata": {},
     "output_type": "execute_result"
    }
   ],
   "source": [
    "from sklearn.svm import SVC\n",
    "clf = SVC(gamma='auto')\n",
    "clf.fit(X_train, y_train)"
   ]
  },
  {
   "cell_type": "code",
   "execution_count": 33,
   "metadata": {},
   "outputs": [
    {
     "name": "stdout",
     "output_type": "stream",
     "text": [
      "1.0\n",
      "0.562047857540345\n"
     ]
    }
   ],
   "source": [
    "print(clf.score(X_train, y_train))\n",
    "print(clf.score(X_test, y_test))"
   ]
  },
  {
   "cell_type": "code",
   "execution_count": 34,
   "metadata": {},
   "outputs": [],
   "source": [
    "Cs = [0.001, 0.01, 0.1, 1, 10]\n",
    "gammas = [0.001, 0.01, 0.1, 1]\n",
    "kernels = [\"linear\", \"rbf\"]\n",
    "parameters = {'C': Cs, 'gamma' : gammas, 'kernel' : kernels}\n",
    "clf = GridSearchCV(SVC(), parameters, n_jobs=-1)"
   ]
  },
  {
   "cell_type": "code",
   "execution_count": 35,
   "metadata": {},
   "outputs": [
    {
     "data": {
      "text/plain": [
       "GridSearchCV(cv=None, error_score='raise',\n",
       "       estimator=SVC(C=1.0, cache_size=200, class_weight=None, coef0=0.0,\n",
       "  decision_function_shape='ovr', degree=3, gamma='auto', kernel='rbf',\n",
       "  max_iter=-1, probability=False, random_state=None, shrinking=True,\n",
       "  tol=0.001, verbose=False),\n",
       "       fit_params=None, iid=True, n_jobs=-1,\n",
       "       param_grid={'C': [0.001, 0.01, 0.1, 1, 10], 'gamma': [0.001, 0.01, 0.1, 1], 'kernel': ['linear', 'rbf']},\n",
       "       pre_dispatch='2*n_jobs', refit=True, return_train_score='warn',\n",
       "       scoring=None, verbose=0)"
      ]
     },
     "execution_count": 35,
     "metadata": {},
     "output_type": "execute_result"
    }
   ],
   "source": [
    "clf.fit(X_train, y_train)"
   ]
  },
  {
   "cell_type": "code",
   "execution_count": 36,
   "metadata": {},
   "outputs": [
    {
     "data": {
      "text/plain": [
       "1.0"
      ]
     },
     "execution_count": 36,
     "metadata": {},
     "output_type": "execute_result"
    }
   ],
   "source": [
    "clf.score(X_train, y_train)"
   ]
  },
  {
   "cell_type": "code",
   "execution_count": 37,
   "metadata": {},
   "outputs": [
    {
     "data": {
      "text/plain": [
       "0.9827490261547023"
      ]
     },
     "execution_count": 37,
     "metadata": {},
     "output_type": "execute_result"
    }
   ],
   "source": [
    "svc = clf\n",
    "svc.score(X_test, y_test)"
   ]
  },
  {
   "cell_type": "code",
   "execution_count": 43,
   "metadata": {},
   "outputs": [
    {
     "data": {
      "text/plain": [
       "Text(0.5,1.03,'SVM Classifier - Optical Recognition')"
      ]
     },
     "execution_count": 43,
     "metadata": {},
     "output_type": "execute_result"
    },
    {
     "data": {
      "image/png": "[encoded data removed]",
      "text/plain": [
       "<Figure size 432x288 with 1 Axes>"
      ]
     },
     "metadata": {
      "needs_background": "light"
     },
     "output_type": "display_data"
    }
   ],
   "source": [
    "learning_curves(svc, trainSet, features, target, train_sizes, 5, testSet)\n",
    "plt.ylim(0.8, 1.1, .1)\n",
    "plt.title(\"SVM Classifier - Optical Recognition\", fontsize=18)"
   ]
  },
  {
   "cell_type": "code",
   "execution_count": 47,
   "metadata": {},
   "outputs": [],
   "source": [
    "# Adaboost\n",
    "from sklearn.ensemble import AdaBoostClassifier"
   ]
  },
  {
   "cell_type": "code",
   "execution_count": 75,
   "metadata": {},
   "outputs": [
    {
     "data": {
      "text/plain": [
       "AdaBoostClassifier(algorithm='SAMME.R',\n",
       "          base_estimator=DecisionTreeClassifier(class_weight=None, criterion='gini', max_depth=10,\n",
       "            max_features=None, max_leaf_nodes=None,\n",
       "            min_impurity_decrease=0.0, min_impurity_split=None,\n",
       "            min_samples_leaf=1, min_samples_split=2,\n",
       "            min_weight_fraction_leaf=0.0, presort=False, random_state=None,\n",
       "            splitter='best'),\n",
       "          learning_rate=1.0, n_estimators=100, random_state=42)"
      ]
     },
     "execution_count": 75,
     "metadata": {},
     "output_type": "execute_result"
    }
   ],
   "source": [
    "abc = AdaBoostClassifier(n_estimators=100, random_state=42, base_estimator = dtc)\n",
    "abc.fit(X_train, y_train)"
   ]
  },
  {
   "cell_type": "code",
   "execution_count": 76,
   "metadata": {},
   "outputs": [
    {
     "data": {
      "text/plain": [
       "1.0"
      ]
     },
     "execution_count": 76,
     "metadata": {},
     "output_type": "execute_result"
    }
   ],
   "source": [
    "abc.score(X_train, y_train)"
   ]
  },
  {
   "cell_type": "code",
   "execution_count": 77,
   "metadata": {},
   "outputs": [
    {
     "data": {
      "text/plain": [
       "0.9654980523094046"
      ]
     },
     "execution_count": 77,
     "metadata": {},
     "output_type": "execute_result"
    }
   ],
   "source": [
    "abc.score(X_test, y_test)"
   ]
  },
  {
   "cell_type": "code",
   "execution_count": 78,
   "metadata": {},
   "outputs": [
    {
     "data": {
      "text/plain": [
       "Text(0.5,1.03,'AdaBoost Classifier - Optical Recognition')"
      ]
     },
     "execution_count": 78,
     "metadata": {},
     "output_type": "execute_result"
    },
    {
     "data": {
      "image/png": "[encoded data removed]",
      "text/plain": [
       "<Figure size 432x288 with 1 Axes>"
      ]
     },
     "metadata": {
      "needs_background": "light"
     },
     "output_type": "display_data"
    }
   ],
   "source": [
    "train_sizes = [x for x in range(100, 1400, 100)]\n",
    "learning_curves(abc, trainSet, features, target, train_sizes, 5, testSet)\n",
    "plt.ylim(0.5,1.1,0.1)\n",
    "plt.title(\"AdaBoost Classifier - Optical Recognition\", fontsize=18)"
   ]
  },
  {
   "cell_type": "code",
   "execution_count": 79,
   "metadata": {},
   "outputs": [
    {
     "name": "stdout",
     "output_type": "stream",
     "text": [
      "0.9803818990321737 0.8514190317195326\n",
      "0.9926759089720115 0.9782971619365609\n",
      "0.731101229400994 0.7840845854201447\n",
      "1.0 0.9827490261547023\n",
      "1.0 0.9654980523094046\n"
     ]
    }
   ],
   "source": [
    "# Accuracies for training and testing\n",
    "for classifier in [dtc, knn, ann, svc, abc]:\n",
    "    print (classifier.score(X_train, y_train), classifier.score(X_test, y_test))"
   ]
  },
  {
   "cell_type": "code",
   "execution_count": 80,
   "metadata": {},
   "outputs": [],
   "source": [
    "# Wall clock times for training and prediction\n",
    "import time\n",
    "trainTimes = []\n",
    "predictTimes = []\n",
    "for classifier in [dtc, knn, ann, svc, abc]:\n",
    "    start = time.time()\n",
    "    classifier.fit(X_train, y_train)\n",
    "    end = time.time()\n",
    "    trainTimes.append(end - start)\n",
    "    \n",
    "    start = time.time()\n",
    "    classifier.predict(X_test)\n",
    "    end = time.time()\n",
    "    predictTimes.append(end - start)"
   ]
  },
  {
   "cell_type": "code",
   "execution_count": 81,
   "metadata": {},
   "outputs": [
    {
     "name": "stdout",
     "output_type": "stream",
     "text": [
      "[0.04595303535461426, 0.020978689193725586, 7.945737600326538, 31.202612161636353, 3.6662471294403076]\n",
      "[0.002997159957885742, 0.48250555992126465, 0.0010001659393310547, 0.14086580276489258, 0.05794119834899902]\n"
     ]
    }
   ],
   "source": [
    "print(trainTimes)\n",
    "print(predictTimes)"
   ]
  },
  {
   "cell_type": "code",
   "execution_count": null,
   "metadata": {},
   "outputs": [],
   "source": []
  }
 ],
 "metadata": {
  "kernelspec": {
   "display_name": "Python 3",
   "language": "python",
   "name": "python3"
  },
  "language_info": {
   "codemirror_mode": {
    "name": "ipython",
    "version": 3
   },
   "file_extension": ".py",
   "mimetype": "text/x-python",
   "name": "python",
   "nbconvert_exporter": "python",
   "pygments_lexer": "ipython3",
   "version": "3.7.0"
  }
 },
 "nbformat": 4,
 "nbformat_minor": 2
}
